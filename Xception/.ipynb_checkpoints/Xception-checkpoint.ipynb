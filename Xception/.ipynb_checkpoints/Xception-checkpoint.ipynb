{
 "cells": [
  {
   "cell_type": "markdown",
   "metadata": {},
   "source": [
    "## 算法说明"
   ]
  },
  {
   "cell_type": "markdown",
   "metadata": {},
   "source": [
    "Xception是对Inception v3的另一种改进，采用depthwise separable convolution来替换原来Inception v3中的卷积操作。  \n",
    "下面对depthwise separable convolution进行简单介绍： \n",
    "  \n",
    "depthwise separable convolution包含两个过程：depthwise convolution 和 pointwise convolution：\n",
    "- depthwise convolution对输入的每一个channel独立的用对应channel的所有卷积核去卷积。假设卷积核的shape是[ filter_height, filter_width, in_channels, channel_multiplier ]，那么每个in_channel会输出channel_multiplier那么多个通道，最后的feature map就会有in_channels * channel_multiplier个通道了。\n",
    "- pointwise convolution是 1x1 卷积操作，是对多个分散通道进行融合的操作。  \n",
    "具体操作如下图所示：  \n",
    "![pic0](pic0.png)  \n",
    "   \n",
    "Xception是基于depthwise separable convolution构建的分类架构，其网络架构如图所示：  \n",
    "![pic1](pic1.png)  \n",
    "基于上述架构图，对Xception进行编码实现。"
   ]
  },
  {
   "cell_type": "markdown",
   "metadata": {},
   "source": [
    "## 算法实现"
   ]
  },
  {
   "cell_type": "code",
   "execution_count": 6,
   "metadata": {},
   "outputs": [],
   "source": [
    "import keras\n",
    "\n",
    "def middle_flow(x, block, name=None):\n",
    "    '''\n",
    "    middle flow block\n",
    "    :param x: input tensor\n",
    "    :param block: index of block for name\n",
    "    :param name: operation name\n",
    "    :return: output tensor\n",
    "    '''\n",
    "    shortcut = x\n",
    "    x = keras.layers.Activation('relu', name=name+str(block)+'_relu0')(x)\n",
    "    x = keras.layers.SeparableConv2D(filters=728, kernel_size=(3,3), padding='same', name=name+'_res'+str(block)+'_SepConv0')(x)\n",
    "    x = keras.layers.BatchNormalization(name=name+str(block)+'_bn0')(x)\n",
    "    x = keras.layers.Activation('relu', name=name+str(block)+'_relu1')(x)\n",
    "    x = keras.layers.SeparableConv2D(filters=728, kernel_size=(3,3), padding='same', name=name+str(block)+'_SepConv1')(x)\n",
    "    x = keras.layers.BatchNormalization(name=name+str(block)+'_bn1')(x)\n",
    "    x = keras.layers.Activation('relu', name=name+str(block)+'_relu2')(x)\n",
    "    x = keras.layers.SeparableConv2D(filters=728, kernel_size=(3,3), padding='same', name=name+str(block)+'_SepConv2')(x)\n",
    "    x = keras.layers.BatchNormalization(name=name+str(block)+'_bn2')(x)\n",
    "    x = keras.layers.Add(name=name+str(block)+'_add')([shortcut, x])\n",
    "    return x\n",
    "\n",
    "def Xception(input_shape=(299,299,3), classes = 1000, use_dropout = True, dropout_rate = 0.2):\n",
    "    \n",
    "    # Entry flow 1\n",
    "    x_input = keras.layers.Input(shape=input_shape, name='input_layer')\n",
    "    x = keras.layers.Conv2D(filters=32, kernel_size=(3,3), strides=2, padding='same', name='entryflow_conv0')(x_input)\n",
    "    x = keras.layers.BatchNormalization(name='entryflow_bn0')(x)\n",
    "    x = keras.layers.Activation('relu', name='entryflow_relu0')(x)  \n",
    "    x = keras.layers.Conv2D(filters=64, kernel_size=(3,3), padding='same', name='entryflow_conv1')(x)\n",
    "    x = keras.layers.BatchNormalization(name='entryflow_bn1')(x)\n",
    "    x = keras.layers.Activation('relu', name='entryflow_relu1')(x)\n",
    "    \n",
    "    # Entry flow 2\n",
    "    shortcut = keras.layers.Conv2D(filters=128, kernel_size=(1,1), strides=2, padding='valid', name='entryflow_res0_shortcut')(x)\n",
    "    shortcut = keras.layers.BatchNormalization(name='entryflow_res0_shortcutbn')(shortcut) \n",
    "    print(\"check111111111111111111111\", shortcut.shape)\n",
    "    x = keras.layers.SeparableConv2D(filters=128, kernel_size=(3,3), padding='same', name='entryflow_res0_SepConv0')(x)\n",
    "    x = keras.layers.BatchNormalization(name='entryflow_res0_bn0')(x)\n",
    "    x = keras.layers.Activation('relu', name='entryflow_res0_relu0')(x)\n",
    "    x = keras.layers.SeparableConv2D(filters=128, kernel_size=(3,3),padding='same', name='entryflow_res0_SepConv1')(x)\n",
    "    x = keras.layers.BatchNormalization(name='entryflow_res0_bn1')(x)\n",
    "    x = keras.layers.MaxPooling2D(pool_size=(3,3), strides=2, name='entryflow_pool')(x)\n",
    "    print(\"check22222222222222222222\", x.shape)\n",
    "    x = keras.layers.Add(name='entryflow_res0_add')([shortcut, x])\n",
    "    \n",
    "    #Entry flow 3\n",
    "    shortcut = keras.layers.Conv2D(filters=256, kernel_size=(1,1), strides=2, padding='same', name='entryflow_res1_shortcut')(x)\n",
    "    shortcut = keras.layers.BatchNormalization(name='entryflow_res1_shortcutbn')(shortcut)\n",
    "    x = keras.layers.Activation('relu', name='entryflow_res1_relu0')(x)\n",
    "    x = keras.layers.SeparableConv2D(filters=256, kernel_size=(3,3), padding='same', name='entryflow_res1_SepConv0')(x)\n",
    "    x = keras.layers.BatchNormalization(name='entryflow_res1_bn0')(x)\n",
    "    x = keras.layers.Activation('relu', name='entryflow_res1_relu1')(x)\n",
    "    x = keras.layers.SeparableConv2D(filters=256, kernel_size=(3,3), padding='same', name='entryflow_res1_SepConv1')(x)\n",
    "    x = keras.layers.BatchNormalization(name='entryflow_res1_bn1')(x)\n",
    "    x = keras.layers.MaxPooling2D(pool_size=(3,3), strides=2, name='entryflow_pool')(x)  \n",
    "    x = keras.layers.Add(name='entryflow_res1_add')([shortcut, x])\n",
    "    \n",
    "    #Entry flow 4\n",
    "    shortcut = keras.layers.Conv2D(filters=728, kernel_size=(1,1), strides=2, padding='same', name='entryflow_res2_shortcut')(x)\n",
    "    shortcut = keras.layers.BatchNormalization(name='entryflow_res2_shortcutbn')(shortcut)\n",
    "    print(\"check111111111111111\", shortcut.shape)\n",
    "    x = keras.layers.Activation('relu', name='entryflow_res2_relu0')(x)\n",
    "    x = keras.layers.SeparableConv2D(filters=728, kernel_size=(3,3), padding='same', name='entryflow_res2_SepConv0')(x)\n",
    "    x = keras.layers.BatchNormalization(name='entryflow_res2_bn0')(x)\n",
    "    x = keras.layers.Activation('relu', name='entryflow_res2_relu1')(x)\n",
    "    x = keras.layers.SeparableConv2D(filters=728, kernel_size=(3,3), padding='same', name='entryflow_res2_SepConv1')(x)\n",
    "    x = keras.layers.BatchNormalization(name='entryflow_res2_bn1')(x)\n",
    "    x = keras.layers.MaxPooling2D(pool_size=(3,3), strides=2, name='entryflow_pool')(x)\n",
    "    print(\"check22222222222222222\", x.shape)\n",
    "    x = keras.layers.Add(name='entryflow_res2_add')([shortcut, x])\n",
    "    \n",
    "    #Middle flow\n",
    "    #重复8次\n",
    "    for i in range(8):\n",
    "        x = middle_flow(x, i+3, name='middleflow')\n",
    "    \n",
    "    #Exit flow\n",
    "    shortcut = keras.layers.Conv2D(filters=1024, kernel_size=(1,1), strides=2, padding='same', name='exitflow_shortcut')(x)\n",
    "    shortcut = keras.layers.BatchNormalization(name='exitflow_shortcutbn')(shortcut)\n",
    "    x = keras.layers.Activation('relu', name='exitflow_relu0')(x)\n",
    "    x = keras.layers.SeparableConv2D(filters=728, kernel_size=(3,3), padding='same', name='exitflow_SepConv0')(x)\n",
    "    x = keras.layers.BatchNormalization(name='exitflow_bn0')(x)\n",
    "    x = keras.layers.Activation('relu', name='exitflow_relu1')(x)\n",
    "    x = keras.layers.SeparableConv2D(filters=1024, kernel_size=(3,3), padding='same', name='exitflow_SepConv1')(x)\n",
    "    x = keras.layers.BatchNormalization(name='exitflow_bn1')(x)\n",
    "    x = keras.layers.MaxPooling2D(pool_size=(3,3), strides=2, name='exitflow_pool')(x)   \n",
    "    x = keras.layers.Add(name='exitflow_add')([shortcut, x])\n",
    "    \n",
    "    x = keras.layers.SeparableConv2D(filters=1536, kernel_size=(3,3), padding='same', name='exitflow_SepConv2')(x)\n",
    "    x = keras.layers.BatchNormalization(name='exitflow_bn2')(x)\n",
    "    x = keras.layers.Activation('relu', name='exitflow_relu2')(x)\n",
    "    x = keras.layers.SeparableConv2D(filters=2048, kernel_size=(3,3), padding='same', name='exitflow_SepConv3')(x)\n",
    "    x = keras.layers.BatchNormalization(name='exitflow_bn3')(x)\n",
    "    x = keras.layers.Activation('relu', name='exitflow_relu3')(x)\n",
    "    \n",
    "    x = keras.layers.GlobalAveragePooling2D(name='exitflow_globalaveragepool')(x)\n",
    "    \n",
    "    #dense layer\n",
    "    #dropout\n",
    "    if use_dropout:\n",
    "        x = keras.layers.Dropout(dropout_rate)(x)\n",
    "        \n",
    "    #dense-layer\n",
    "    x = keras.layers.Dense(units = classes, activation='softmax', kernel_initializer='glorot_uniform', name = 'fc' + str(classes))(x)\n",
    "    model = keras.models.Model(inputs = x_input, outputs = x, name = 'Xception')\n",
    "    return model"
   ]
  },
  {
   "cell_type": "code",
   "execution_count": 7,
   "metadata": {},
   "outputs": [
    {
     "name": "stdout",
     "output_type": "stream",
     "text": [
      "check111111111111111111111 (?, 75, 75, 128)\n",
      "check22222222222222222222 (?, 74, 74, 128)\n"
     ]
    },
    {
     "ename": "ValueError",
     "evalue": "Operands could not be broadcast together with shapes (75, 75, 128) (74, 74, 128)",
     "output_type": "error",
     "traceback": [
      "\u001b[0;31m---------------------------------------------------------------------------\u001b[0m",
      "\u001b[0;31mValueError\u001b[0m                                Traceback (most recent call last)",
      "\u001b[0;32m<ipython-input-7-d371bd7bb681>\u001b[0m in \u001b[0;36m<module>\u001b[0;34m()\u001b[0m\n\u001b[0;32m----> 1\u001b[0;31m \u001b[0mmodel\u001b[0m \u001b[0;34m=\u001b[0m \u001b[0mXception\u001b[0m\u001b[0;34m(\u001b[0m\u001b[0;34m)\u001b[0m\u001b[0;34m\u001b[0m\u001b[0m\n\u001b[0m\u001b[1;32m      2\u001b[0m \u001b[0mprint\u001b[0m\u001b[0;34m(\u001b[0m\u001b[0mmodel\u001b[0m\u001b[0;34m.\u001b[0m\u001b[0msummary\u001b[0m\u001b[0;34m(\u001b[0m\u001b[0;34m)\u001b[0m\u001b[0;34m)\u001b[0m\u001b[0;34m\u001b[0m\u001b[0m\n",
      "\u001b[0;32m<ipython-input-6-7f3f441a82f6>\u001b[0m in \u001b[0;36mXception\u001b[0;34m(input_shape, classes, use_dropout, dropout_rate)\u001b[0m\n\u001b[1;32m     44\u001b[0m     \u001b[0mx\u001b[0m \u001b[0;34m=\u001b[0m \u001b[0mkeras\u001b[0m\u001b[0;34m.\u001b[0m\u001b[0mlayers\u001b[0m\u001b[0;34m.\u001b[0m\u001b[0mMaxPooling2D\u001b[0m\u001b[0;34m(\u001b[0m\u001b[0mpool_size\u001b[0m\u001b[0;34m=\u001b[0m\u001b[0;34m(\u001b[0m\u001b[0;36m3\u001b[0m\u001b[0;34m,\u001b[0m\u001b[0;36m3\u001b[0m\u001b[0;34m)\u001b[0m\u001b[0;34m,\u001b[0m \u001b[0mstrides\u001b[0m\u001b[0;34m=\u001b[0m\u001b[0;36m2\u001b[0m\u001b[0;34m,\u001b[0m \u001b[0mname\u001b[0m\u001b[0;34m=\u001b[0m\u001b[0;34m'entryflow_pool'\u001b[0m\u001b[0;34m)\u001b[0m\u001b[0;34m(\u001b[0m\u001b[0mx\u001b[0m\u001b[0;34m)\u001b[0m\u001b[0;34m\u001b[0m\u001b[0m\n\u001b[1;32m     45\u001b[0m     \u001b[0mprint\u001b[0m\u001b[0;34m(\u001b[0m\u001b[0;34m\"check22222222222222222222\"\u001b[0m\u001b[0;34m,\u001b[0m \u001b[0mx\u001b[0m\u001b[0;34m.\u001b[0m\u001b[0mshape\u001b[0m\u001b[0;34m)\u001b[0m\u001b[0;34m\u001b[0m\u001b[0m\n\u001b[0;32m---> 46\u001b[0;31m     \u001b[0mx\u001b[0m \u001b[0;34m=\u001b[0m \u001b[0mkeras\u001b[0m\u001b[0;34m.\u001b[0m\u001b[0mlayers\u001b[0m\u001b[0;34m.\u001b[0m\u001b[0mAdd\u001b[0m\u001b[0;34m(\u001b[0m\u001b[0mname\u001b[0m\u001b[0;34m=\u001b[0m\u001b[0;34m'entryflow_res0_add'\u001b[0m\u001b[0;34m)\u001b[0m\u001b[0;34m(\u001b[0m\u001b[0;34m[\u001b[0m\u001b[0mshortcut\u001b[0m\u001b[0;34m,\u001b[0m \u001b[0mx\u001b[0m\u001b[0;34m]\u001b[0m\u001b[0;34m)\u001b[0m\u001b[0;34m\u001b[0m\u001b[0m\n\u001b[0m\u001b[1;32m     47\u001b[0m \u001b[0;34m\u001b[0m\u001b[0m\n\u001b[1;32m     48\u001b[0m     \u001b[0;31m#Entry flow 3\u001b[0m\u001b[0;34m\u001b[0m\u001b[0;34m\u001b[0m\u001b[0m\n",
      "\u001b[0;32m/usr/local/SkyCompute/lib/python3.6/site-packages/keras/engine/base_layer.py\u001b[0m in \u001b[0;36m__call__\u001b[0;34m(self, inputs, **kwargs)\u001b[0m\n\u001b[1;32m    429\u001b[0m                                          \u001b[0;34m'You can build it manually via: '\u001b[0m\u001b[0;34m\u001b[0m\u001b[0m\n\u001b[1;32m    430\u001b[0m                                          '`layer.build(batch_input_shape)`')\n\u001b[0;32m--> 431\u001b[0;31m                 \u001b[0mself\u001b[0m\u001b[0;34m.\u001b[0m\u001b[0mbuild\u001b[0m\u001b[0;34m(\u001b[0m\u001b[0munpack_singleton\u001b[0m\u001b[0;34m(\u001b[0m\u001b[0minput_shapes\u001b[0m\u001b[0;34m)\u001b[0m\u001b[0;34m)\u001b[0m\u001b[0;34m\u001b[0m\u001b[0m\n\u001b[0m\u001b[1;32m    432\u001b[0m                 \u001b[0mself\u001b[0m\u001b[0;34m.\u001b[0m\u001b[0mbuilt\u001b[0m \u001b[0;34m=\u001b[0m \u001b[0;32mTrue\u001b[0m\u001b[0;34m\u001b[0m\u001b[0m\n\u001b[1;32m    433\u001b[0m \u001b[0;34m\u001b[0m\u001b[0m\n",
      "\u001b[0;32m/usr/local/SkyCompute/lib/python3.6/site-packages/keras/layers/merge.py\u001b[0m in \u001b[0;36mbuild\u001b[0;34m(self, input_shape)\u001b[0m\n\u001b[1;32m     89\u001b[0m                 \u001b[0mshape\u001b[0m \u001b[0;34m=\u001b[0m \u001b[0minput_shape\u001b[0m\u001b[0;34m[\u001b[0m\u001b[0mi\u001b[0m\u001b[0;34m]\u001b[0m\u001b[0;34m[\u001b[0m\u001b[0;36m1\u001b[0m\u001b[0;34m:\u001b[0m\u001b[0;34m]\u001b[0m\u001b[0;34m\u001b[0m\u001b[0m\n\u001b[1;32m     90\u001b[0m             output_shape = self._compute_elemwise_op_output_shape(output_shape,\n\u001b[0;32m---> 91\u001b[0;31m                                                                   shape)\n\u001b[0m\u001b[1;32m     92\u001b[0m         \u001b[0;31m# If the inputs have different ranks, we have to reshape them\u001b[0m\u001b[0;34m\u001b[0m\u001b[0;34m\u001b[0m\u001b[0m\n\u001b[1;32m     93\u001b[0m         \u001b[0;31m# to make them broadcastable.\u001b[0m\u001b[0;34m\u001b[0m\u001b[0;34m\u001b[0m\u001b[0m\n",
      "\u001b[0;32m/usr/local/SkyCompute/lib/python3.6/site-packages/keras/layers/merge.py\u001b[0m in \u001b[0;36m_compute_elemwise_op_output_shape\u001b[0;34m(self, shape1, shape2)\u001b[0m\n\u001b[1;32m     59\u001b[0m                     raise ValueError('Operands could not be broadcast '\n\u001b[1;32m     60\u001b[0m                                      \u001b[0;34m'together with shapes '\u001b[0m \u001b[0;34m+\u001b[0m\u001b[0;34m\u001b[0m\u001b[0m\n\u001b[0;32m---> 61\u001b[0;31m                                      str(shape1) + ' ' + str(shape2))\n\u001b[0m\u001b[1;32m     62\u001b[0m                 \u001b[0moutput_shape\u001b[0m\u001b[0;34m.\u001b[0m\u001b[0mappend\u001b[0m\u001b[0;34m(\u001b[0m\u001b[0mi\u001b[0m\u001b[0;34m)\u001b[0m\u001b[0;34m\u001b[0m\u001b[0m\n\u001b[1;32m     63\u001b[0m         \u001b[0;32mreturn\u001b[0m \u001b[0mtuple\u001b[0m\u001b[0;34m(\u001b[0m\u001b[0moutput_shape\u001b[0m\u001b[0;34m)\u001b[0m\u001b[0;34m\u001b[0m\u001b[0m\n",
      "\u001b[0;31mValueError\u001b[0m: Operands could not be broadcast together with shapes (75, 75, 128) (74, 74, 128)"
     ]
    }
   ],
   "source": [
    "model = Xception()\n",
    "print(model.summary())"
   ]
  }
 ],
 "metadata": {
  "kernelspec": {
   "display_name": "Python 3",
   "language": "python",
   "name": "python3"
  },
  "language_info": {
   "codemirror_mode": {
    "name": "ipython",
    "version": 3
   },
   "file_extension": ".py",
   "mimetype": "text/x-python",
   "name": "python",
   "nbconvert_exporter": "python",
   "pygments_lexer": "ipython3",
   "version": "3.6.5"
  }
 },
 "nbformat": 4,
 "nbformat_minor": 2
}
